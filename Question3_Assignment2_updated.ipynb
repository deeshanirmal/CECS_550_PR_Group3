{
 "cells": [
  {
   "cell_type": "markdown",
   "metadata": {
    "id": "iRwDXBiIGDF1"
   },
   "source": [
    "## Question 3.1"
   ]
  },
  {
   "cell_type": "code",
   "execution_count": 1,
   "metadata": {
    "id": "U84M5dRyQ2ho"
   },
   "outputs": [],
   "source": [
    "import pandas as pd\n",
    "import numpy as np\n",
    "import warnings\n",
    "warnings.filterwarnings(\"ignore\")"
   ]
  },
  {
   "cell_type": "code",
   "execution_count": 2,
   "metadata": {
    "id": "tKDBMxKkRO2F"
   },
   "outputs": [],
   "source": [
    "data = pd.read_csv(\"cereal.csv\")\n",
    "data = data[1:]\n",
    "data.reset_index(drop=True, inplace=True)"
   ]
  },
  {
   "cell_type": "code",
   "execution_count": 3,
   "metadata": {
    "colab": {
     "base_uri": "https://localhost:8080/",
     "height": 421
    },
    "id": "o7J3EIV9cHAz",
    "outputId": "83d445dd-906a-4712-952d-833dbd0c43fe"
   },
   "outputs": [
    {
     "data": {
      "text/html": [
       "<div>\n",
       "<style scoped>\n",
       "    .dataframe tbody tr th:only-of-type {\n",
       "        vertical-align: middle;\n",
       "    }\n",
       "\n",
       "    .dataframe tbody tr th {\n",
       "        vertical-align: top;\n",
       "    }\n",
       "\n",
       "    .dataframe thead th {\n",
       "        text-align: right;\n",
       "    }\n",
       "</style>\n",
       "<table border=\"1\" class=\"dataframe\">\n",
       "  <thead>\n",
       "    <tr style=\"text-align: right;\">\n",
       "      <th></th>\n",
       "      <th>name</th>\n",
       "      <th>mfr</th>\n",
       "      <th>type</th>\n",
       "      <th>calories</th>\n",
       "      <th>protein</th>\n",
       "      <th>fat</th>\n",
       "      <th>sodium</th>\n",
       "      <th>fiber</th>\n",
       "      <th>carbo</th>\n",
       "      <th>sugars</th>\n",
       "      <th>potass</th>\n",
       "      <th>vitamins</th>\n",
       "      <th>shelf</th>\n",
       "      <th>weight</th>\n",
       "      <th>cups</th>\n",
       "      <th>rating</th>\n",
       "    </tr>\n",
       "  </thead>\n",
       "  <tbody>\n",
       "    <tr>\n",
       "      <th>0</th>\n",
       "      <td>100% Bran</td>\n",
       "      <td>N</td>\n",
       "      <td>C</td>\n",
       "      <td>70</td>\n",
       "      <td>4</td>\n",
       "      <td>1</td>\n",
       "      <td>130</td>\n",
       "      <td>10</td>\n",
       "      <td>5</td>\n",
       "      <td>6</td>\n",
       "      <td>280</td>\n",
       "      <td>25</td>\n",
       "      <td>3</td>\n",
       "      <td>1</td>\n",
       "      <td>0.33</td>\n",
       "      <td>68.402973</td>\n",
       "    </tr>\n",
       "    <tr>\n",
       "      <th>1</th>\n",
       "      <td>100% Natural Bran</td>\n",
       "      <td>Q</td>\n",
       "      <td>C</td>\n",
       "      <td>120</td>\n",
       "      <td>3</td>\n",
       "      <td>5</td>\n",
       "      <td>15</td>\n",
       "      <td>2</td>\n",
       "      <td>8</td>\n",
       "      <td>8</td>\n",
       "      <td>135</td>\n",
       "      <td>0</td>\n",
       "      <td>3</td>\n",
       "      <td>1</td>\n",
       "      <td>1</td>\n",
       "      <td>33.983679</td>\n",
       "    </tr>\n",
       "    <tr>\n",
       "      <th>2</th>\n",
       "      <td>All-Bran</td>\n",
       "      <td>K</td>\n",
       "      <td>C</td>\n",
       "      <td>70</td>\n",
       "      <td>4</td>\n",
       "      <td>1</td>\n",
       "      <td>260</td>\n",
       "      <td>9</td>\n",
       "      <td>7</td>\n",
       "      <td>5</td>\n",
       "      <td>320</td>\n",
       "      <td>25</td>\n",
       "      <td>3</td>\n",
       "      <td>1</td>\n",
       "      <td>0.33</td>\n",
       "      <td>59.425505</td>\n",
       "    </tr>\n",
       "    <tr>\n",
       "      <th>3</th>\n",
       "      <td>All-Bran with Extra Fiber</td>\n",
       "      <td>K</td>\n",
       "      <td>C</td>\n",
       "      <td>50</td>\n",
       "      <td>4</td>\n",
       "      <td>0</td>\n",
       "      <td>140</td>\n",
       "      <td>14</td>\n",
       "      <td>8</td>\n",
       "      <td>0</td>\n",
       "      <td>330</td>\n",
       "      <td>25</td>\n",
       "      <td>3</td>\n",
       "      <td>1</td>\n",
       "      <td>0.5</td>\n",
       "      <td>93.704912</td>\n",
       "    </tr>\n",
       "    <tr>\n",
       "      <th>4</th>\n",
       "      <td>Almond Delight</td>\n",
       "      <td>R</td>\n",
       "      <td>C</td>\n",
       "      <td>110</td>\n",
       "      <td>2</td>\n",
       "      <td>2</td>\n",
       "      <td>200</td>\n",
       "      <td>1</td>\n",
       "      <td>14</td>\n",
       "      <td>8</td>\n",
       "      <td>-1</td>\n",
       "      <td>25</td>\n",
       "      <td>3</td>\n",
       "      <td>1</td>\n",
       "      <td>0.75</td>\n",
       "      <td>34.384843</td>\n",
       "    </tr>\n",
       "  </tbody>\n",
       "</table>\n",
       "</div>"
      ],
      "text/plain": [
       "                        name mfr type calories protein fat sodium fiber carbo  \\\n",
       "0                  100% Bran   N    C       70       4   1    130    10     5   \n",
       "1          100% Natural Bran   Q    C      120       3   5     15     2     8   \n",
       "2                   All-Bran   K    C       70       4   1    260     9     7   \n",
       "3  All-Bran with Extra Fiber   K    C       50       4   0    140    14     8   \n",
       "4             Almond Delight   R    C      110       2   2    200     1    14   \n",
       "\n",
       "  sugars potass vitamins shelf weight  cups     rating  \n",
       "0      6    280       25     3      1  0.33  68.402973  \n",
       "1      8    135        0     3      1     1  33.983679  \n",
       "2      5    320       25     3      1  0.33  59.425505  \n",
       "3      0    330       25     3      1   0.5  93.704912  \n",
       "4      8     -1       25     3      1  0.75  34.384843  "
      ]
     },
     "execution_count": 3,
     "metadata": {},
     "output_type": "execute_result"
    }
   ],
   "source": [
    "data.head()"
   ]
  },
  {
   "cell_type": "code",
   "execution_count": 4,
   "metadata": {
    "id": "mf_FLBBvXwaW"
   },
   "outputs": [],
   "source": [
    "mu = 0\n",
    "sigma = 5\n",
    "sodium = list(data['sodium'].values)\n",
    "sodium2 = [(2*int(sodium[i]))+int(np.random.normal(mu, sigma, 1)[0]) for i in range(data.shape[0])]\n",
    "data.insert(7, \"sodium2\", sodium2, True)"
   ]
  },
  {
   "cell_type": "code",
   "execution_count": 5,
   "metadata": {
    "id": "EmOhaoDnZrwW"
   },
   "outputs": [],
   "source": [
    "data.drop([\"name\"], axis =1, inplace = True)"
   ]
  },
  {
   "cell_type": "code",
   "execution_count": 6,
   "metadata": {
    "id": "-VX61_n7al-_"
   },
   "outputs": [],
   "source": [
    "from sklearn.preprocessing import OneHotEncoder"
   ]
  },
  {
   "cell_type": "code",
   "execution_count": 7,
   "metadata": {
    "id": "4GpBH0QxcBAC"
   },
   "outputs": [],
   "source": [
    "mfr_enc = OneHotEncoder()\n",
    "mfr_df = pd.DataFrame(mfr_enc.fit_transform(data[['mfr']]).toarray())\n",
    "mfr_columns = list(mfr_df.columns)\n",
    "encoded_mfr_columns = []\n",
    "for i in mfr_columns:\n",
    "    encoded_mfr_columns.append(\"mfr_\"+str(i))\n",
    "mfr_df.set_axis(encoded_mfr_columns, axis=1, inplace=True)\n",
    "data.drop([\"mfr\"],axis = 1,inplace = True)\n",
    "data = data.join(mfr_df)"
   ]
  },
  {
   "cell_type": "code",
   "execution_count": 8,
   "metadata": {
    "id": "-03S3zdVazKn"
   },
   "outputs": [],
   "source": [
    "type_enc = OneHotEncoder()\n",
    "type_df = pd.DataFrame(type_enc.fit_transform(data[['type']]).toarray())\n",
    "type_columns = list(type_df.columns)\n",
    "encoded_type_columns = []\n",
    "for i in type_columns:\n",
    "    encoded_type_columns.append(\"type_\"+str(i))\n",
    "type_df.set_axis(encoded_type_columns, axis=1, inplace=True)\n",
    "data.drop([\"type\"],axis = 1,inplace = True)\n",
    "data = data.join(type_df)"
   ]
  },
  {
   "cell_type": "code",
   "execution_count": null,
   "metadata": {
    "id": "DLOO2TcRCkn2"
   },
   "outputs": [],
   "source": []
  },
  {
   "cell_type": "code",
   "execution_count": 9,
   "metadata": {
    "id": "nWWEPh0UC46d"
   },
   "outputs": [],
   "source": [
    "data = data.astype(\"float\")"
   ]
  },
  {
   "cell_type": "code",
   "execution_count": 10,
   "metadata": {
    "id": "hiONetwMbWaQ"
   },
   "outputs": [],
   "source": [
    "X = data.drop(['rating'],axis = 1)\n",
    "y = data[\"rating\"]"
   ]
  },
  {
   "cell_type": "code",
   "execution_count": 11,
   "metadata": {
    "id": "QqAEYLRNbftp"
   },
   "outputs": [],
   "source": [
    "from sklearn.model_selection import train_test_split,RepeatedKFold,cross_val_score"
   ]
  },
  {
   "cell_type": "code",
   "execution_count": 12,
   "metadata": {
    "id": "ennpDnWAcvGr"
   },
   "outputs": [],
   "source": [
    "X_train,X_test,y_train,y_test = train_test_split(X,y,random_state=42,test_size=0.1)"
   ]
  },
  {
   "cell_type": "markdown",
   "metadata": {
    "id": "PN7WofVnf6MH"
   },
   "source": [
    "Linear Regression Models"
   ]
  },
  {
   "cell_type": "code",
   "execution_count": 13,
   "metadata": {
    "id": "MSc3FzPgdXuV"
   },
   "outputs": [],
   "source": [
    "from sklearn.linear_model import LinearRegression,Ridge,Lasso,ElasticNet"
   ]
  },
  {
   "cell_type": "markdown",
   "metadata": {
    "id": "zUwPDbbtg4YB"
   },
   "source": [
    "Ridge"
   ]
  },
  {
   "cell_type": "code",
   "execution_count": 14,
   "metadata": {
    "colab": {
     "base_uri": "https://localhost:8080/"
    },
    "id": "qhJrfu6wdxRa",
    "outputId": "1fe17d7e-d392-4c64-84b8-0d27be76a03b"
   },
   "outputs": [
    {
     "data": {
      "text/plain": [
       "Ridge()"
      ]
     },
     "execution_count": 14,
     "metadata": {},
     "output_type": "execute_result"
    }
   ],
   "source": [
    "model_ridge = Ridge()\n",
    "model_ridge.fit(X_train,y_train)"
   ]
  },
  {
   "cell_type": "code",
   "execution_count": 15,
   "metadata": {
    "id": "wOgQt3UXpoiZ"
   },
   "outputs": [],
   "source": [
    "import matplotlib.pyplot as plt"
   ]
  },
  {
   "cell_type": "markdown",
   "metadata": {
    "id": "3GHljJQCg50P"
   },
   "source": [
    "Lasso"
   ]
  },
  {
   "cell_type": "code",
   "execution_count": 16,
   "metadata": {
    "colab": {
     "base_uri": "https://localhost:8080/"
    },
    "id": "oU6daQGBg3wc",
    "outputId": "ba2cf2fa-ff30-4829-b13f-b923a39c514d"
   },
   "outputs": [
    {
     "data": {
      "text/plain": [
       "Lasso()"
      ]
     },
     "execution_count": 16,
     "metadata": {},
     "output_type": "execute_result"
    }
   ],
   "source": [
    "model_lasso = Lasso()\n",
    "model_lasso.fit(X_train,y_train)"
   ]
  },
  {
   "cell_type": "markdown",
   "metadata": {
    "id": "-5UZwU8vhBgX"
   },
   "source": [
    "ElasticNet"
   ]
  },
  {
   "cell_type": "code",
   "execution_count": 17,
   "metadata": {
    "colab": {
     "base_uri": "https://localhost:8080/"
    },
    "id": "wVIRQFtnhBJ6",
    "outputId": "b9e6a5ab-41f6-425b-a290-70377e660ec4"
   },
   "outputs": [
    {
     "data": {
      "text/plain": [
       "ElasticNet()"
      ]
     },
     "execution_count": 17,
     "metadata": {},
     "output_type": "execute_result"
    }
   ],
   "source": [
    "model_elasticnet = ElasticNet()\n",
    "model_elasticnet.fit(X_train,y_train)"
   ]
  },
  {
   "cell_type": "markdown",
   "metadata": {
    "id": "JQ09zxlthTxo"
   },
   "source": [
    "Linear regression"
   ]
  },
  {
   "cell_type": "code",
   "execution_count": 18,
   "metadata": {
    "colab": {
     "base_uri": "https://localhost:8080/"
    },
    "id": "eEqVM3mXhKwH",
    "outputId": "b2460d68-9ef6-44ce-c605-c91cc350b4ce"
   },
   "outputs": [
    {
     "data": {
      "text/plain": [
       "LinearRegression()"
      ]
     },
     "execution_count": 18,
     "metadata": {},
     "output_type": "execute_result"
    }
   ],
   "source": [
    "model_linear = LinearRegression()\n",
    "model_linear.fit(X_train,y_train)"
   ]
  },
  {
   "cell_type": "markdown",
   "metadata": {
    "id": "v5g2tsS6GABM"
   },
   "source": [
    "## Question 3.2"
   ]
  },
  {
   "cell_type": "code",
   "execution_count": 19,
   "metadata": {
    "id": "XqIRfNKd_TQc"
   },
   "outputs": [],
   "source": [
    "from sklearn.pipeline import Pipeline\n",
    "from sklearn.model_selection import RepeatedKFold, GridSearchCV, train_test_split, cross_val_score\n",
    "ridge_model = GridSearchCV(Ridge(),{'alpha':[0.0001,0.0005,0.005,0.001,0.01,0.05,0.1,0.2,0.5,1]},\n",
    "                         cv=5, scoring='r2')"
   ]
  },
  {
   "cell_type": "code",
   "execution_count": 20,
   "metadata": {
    "id": "6HRXPBfI_TOE"
   },
   "outputs": [],
   "source": [
    "ridge_model.fit(X,y)\n",
    "score = pd.DataFrame(ridge_model.cv_results_).iloc[:,4:][['param_alpha','mean_test_score']]"
   ]
  },
  {
   "cell_type": "code",
   "execution_count": 21,
   "metadata": {
    "id": "i6cUbLrL_TLe"
   },
   "outputs": [
    {
     "data": {
      "text/plain": [
       "Text(0, 0.5, 'R2')"
      ]
     },
     "execution_count": 21,
     "metadata": {},
     "output_type": "execute_result"
    },
    {
     "data": {
      "image/png": "[encoded data removed]",
      "text/plain": [
       "<Figure size 432x288 with 1 Axes>"
      ]
     },
     "metadata": {
      "needs_background": "light"
     },
     "output_type": "display_data"
    }
   ],
   "source": [
    "plt.plot(score['param_alpha'],score['mean_test_score'])\n",
    "plt.xlabel(\"param_alpha\")\n",
    "plt.ylabel(\"R2\")"
   ]
  },
  {
   "cell_type": "markdown",
   "metadata": {
    "id": "pJzws922_UgO"
   },
   "source": [
    "# Question 3.3"
   ]
  },
  {
   "cell_type": "code",
   "execution_count": 24,
   "metadata": {
    "id": "02JnfbhE_6uP"
   },
   "outputs": [
    {
     "name": "stdout",
     "output_type": "stream",
     "text": [
      "Collecting mlxtend\n",
      "  Using cached mlxtend-0.19.0-py2.py3-none-any.whl (1.3 MB)\n",
      "Requirement already satisfied: numpy>=1.16.2 in c:\\users\\029421793\\anaconda3\\lib\\site-packages (from mlxtend) (1.20.3)\n",
      "Requirement already satisfied: setuptools in c:\\users\\029421793\\anaconda3\\lib\\site-packages (from mlxtend) (58.0.4)\n",
      "Requirement already satisfied: scipy>=1.2.1 in c:\\users\\029421793\\anaconda3\\lib\\site-packages (from mlxtend) (1.7.1)\n",
      "Requirement already satisfied: joblib>=0.13.2 in c:\\users\\029421793\\anaconda3\\lib\\site-packages (from mlxtend) (1.1.0)\n",
      "Requirement already satisfied: pandas>=0.24.2 in c:\\users\\029421793\\anaconda3\\lib\\site-packages (from mlxtend) (1.3.4)\n",
      "Requirement already satisfied: matplotlib>=3.0.0 in c:\\users\\029421793\\anaconda3\\lib\\site-packages (from mlxtend) (3.4.3)\n",
      "Requirement already satisfied: scikit-learn>=0.20.3 in c:\\users\\029421793\\anaconda3\\lib\\site-packages (from mlxtend) (0.24.2)\n",
      "Requirement already satisfied: pyparsing>=2.2.1 in c:\\users\\029421793\\anaconda3\\lib\\site-packages (from matplotlib>=3.0.0->mlxtend) (3.0.4)\n",
      "Requirement already satisfied: cycler>=0.10 in c:\\users\\029421793\\anaconda3\\lib\\site-packages (from matplotlib>=3.0.0->mlxtend) (0.10.0)\n",
      "Requirement already satisfied: pillow>=6.2.0 in c:\\users\\029421793\\anaconda3\\lib\\site-packages (from matplotlib>=3.0.0->mlxtend) (8.4.0)\n",
      "Requirement already satisfied: kiwisolver>=1.0.1 in c:\\users\\029421793\\anaconda3\\lib\\site-packages (from matplotlib>=3.0.0->mlxtend) (1.3.1)\n",
      "Requirement already satisfied: python-dateutil>=2.7 in c:\\users\\029421793\\anaconda3\\lib\\site-packages (from matplotlib>=3.0.0->mlxtend) (2.8.2)\n",
      "Requirement already satisfied: six in c:\\users\\029421793\\anaconda3\\lib\\site-packages (from cycler>=0.10->matplotlib>=3.0.0->mlxtend) (1.16.0)\n",
      "Requirement already satisfied: pytz>=2017.3 in c:\\users\\029421793\\anaconda3\\lib\\site-packages (from pandas>=0.24.2->mlxtend) (2021.3)\n",
      "Requirement already satisfied: threadpoolctl>=2.0.0 in c:\\users\\029421793\\anaconda3\\lib\\site-packages (from scikit-learn>=0.20.3->mlxtend) (2.2.0)\n",
      "Installing collected packages: mlxtend\n",
      "Successfully installed mlxtend-0.19.0\n",
      "Note: you may need to restart the kernel to use updated packages.\n"
     ]
    }
   ],
   "source": [
    "pip install mlxtend --upgrade"
   ]
  },
  {
   "cell_type": "code",
   "execution_count": 25,
   "metadata": {
    "id": "Ibp0uR-a_TI2"
   },
   "outputs": [],
   "source": [
    "from mlxtend.evaluate import bias_variance_decomp\n",
    "from sklearn.metrics import mean_squared_error"
   ]
  },
  {
   "cell_type": "code",
   "execution_count": null,
   "metadata": {
    "id": "9I5LBkvdAmQ7"
   },
   "outputs": [],
   "source": []
  },
  {
   "cell_type": "markdown",
   "metadata": {
    "id": "okX_WlWrAmz3"
   },
   "source": [
    "Ridge Bias-Variance"
   ]
  },
  {
   "cell_type": "code",
   "execution_count": 26,
   "metadata": {
    "colab": {
     "base_uri": "https://localhost:8080/"
    },
    "id": "KNojpvV1_TGe",
    "outputId": "391697f6-ea26-4c55-d7fc-152350eab7cd"
   },
   "outputs": [
    {
     "name": "stdout",
     "output_type": "stream",
     "text": [
      "MSE from bias_variance lib [avg expected loss]: 0.045\n",
      "Avg Bias: 0.026\n",
      "Avg Variance: 0.019\n",
      "Mean Square error by Sckit-learn lib: 0.041\n"
     ]
    }
   ],
   "source": [
    "ridge_mse, ridge_bias, ridge_var = bias_variance_decomp(model_ridge, X_train.values, y_train.values, X_test.values, y_test.values, loss='mse', random_seed=123)\n",
    "ridge_y_pred=model_ridge.predict(X_test)\n",
    "# summarize results\n",
    "print('MSE from bias_variance lib [avg expected loss]: %.3f' % ridge_mse)\n",
    "print('Avg Bias: %.3f' % ridge_bias)\n",
    "print('Avg Variance: %.3f' % ridge_var)\n",
    "print('Mean Square error by Sckit-learn lib: %.3f' % mean_squared_error(y_test,ridge_y_pred))\n"
   ]
  },
  {
   "cell_type": "markdown",
   "metadata": {
    "id": "ADl0futgDgwg"
   },
   "source": [
    "Lasso Bias-Variance"
   ]
  },
  {
   "cell_type": "code",
   "execution_count": 27,
   "metadata": {
    "colab": {
     "base_uri": "https://localhost:8080/"
    },
    "id": "mZMANFhI_TD0",
    "outputId": "1e3addf4-4c16-47e8-d7ce-6852ca4fcd50"
   },
   "outputs": [
    {
     "name": "stdout",
     "output_type": "stream",
     "text": [
      "MSE from bias_variance lib [avg expected loss]: 5.781\n",
      "Avg Bias: 4.134\n",
      "Avg Variance: 1.647\n",
      "Mean Square error by Sckit-learn lib: 3.816\n"
     ]
    }
   ],
   "source": [
    "lasso_mse, lasso_bias, lasso_var = bias_variance_decomp(model_lasso, X_train.values, y_train.values, X_test.values, y_test.values, loss='mse', random_seed=123)\n",
    "lasso_y_pred=model_lasso.predict(X_test)\n",
    "# summarize results\n",
    "print('MSE from bias_variance lib [avg expected loss]: %.3f' % lasso_mse)\n",
    "print('Avg Bias: %.3f' % lasso_bias)\n",
    "print('Avg Variance: %.3f' % lasso_var)\n",
    "print('Mean Square error by Sckit-learn lib: %.3f' % mean_squared_error(y_test,lasso_y_pred))\n"
   ]
  },
  {
   "cell_type": "markdown",
   "metadata": {
    "id": "-ho5m8-GDyOk"
   },
   "source": [
    "ElasticNet Bias-Variance"
   ]
  },
  {
   "cell_type": "code",
   "execution_count": 28,
   "metadata": {
    "colab": {
     "base_uri": "https://localhost:8080/"
    },
    "id": "1nVADz2SDui-",
    "outputId": "4d7e7b8d-565b-4970-b733-a444d616e486"
   },
   "outputs": [
    {
     "name": "stdout",
     "output_type": "stream",
     "text": [
      "MSE from bias_variance lib [avg expected loss]: 6.939\n",
      "Avg Bias: 5.526\n",
      "Avg Variance: 1.412\n",
      "Mean Square error by Sckit-learn lib: 5.081\n"
     ]
    }
   ],
   "source": [
    "elasticnet_mse, elasticnet_bias, elasticnet_var = bias_variance_decomp(model_elasticnet, X_train.values, y_train.values, X_test.values, y_test.values, loss='mse', random_seed=123)\n",
    "elasticnet_y_pred=model_elasticnet.predict(X_test)\n",
    "# summarize results\n",
    "print('MSE from bias_variance lib [avg expected loss]: %.3f' % elasticnet_mse)\n",
    "print('Avg Bias: %.3f' % elasticnet_bias)\n",
    "print('Avg Variance: %.3f' % elasticnet_var)\n",
    "print('Mean Square error by Sckit-learn lib: %.3f' % mean_squared_error(y_test,elasticnet_y_pred))\n"
   ]
  },
  {
   "cell_type": "markdown",
   "metadata": {
    "id": "GYoo3vUkEEOe"
   },
   "source": [
    "LinearRegression Bias-Variance"
   ]
  },
  {
   "cell_type": "code",
   "execution_count": 29,
   "metadata": {
    "colab": {
     "base_uri": "https://localhost:8080/"
    },
    "id": "_NmRcAUuEAh6",
    "outputId": "98268401-f10c-4e17-c775-c4d21e2896fa"
   },
   "outputs": [
    {
     "name": "stdout",
     "output_type": "stream",
     "text": [
      "MSE from bias_variance lib [avg expected loss]: 0.000\n",
      "Avg Bias: 0.000\n",
      "Avg Variance: 0.000\n",
      "Mean Square error by Sckit-learn lib: 0.000\n"
     ]
    }
   ],
   "source": [
    "linear_mse, linear_bias, linear_var = bias_variance_decomp(model_linear, X_train.values, y_train.values, X_test.values, y_test.values, loss='mse', random_seed=123)\n",
    "linear_y_pred=model_linear.predict(X_test)\n",
    "# summarize results\n",
    "print('MSE from bias_variance lib [avg expected loss]: %.3f' % linear_mse)\n",
    "print('Avg Bias: %.3f' % linear_bias)\n",
    "print('Avg Variance: %.3f' % linear_var)\n",
    "print('Mean Square error by Sckit-learn lib: %.3f' % mean_squared_error(y_test,linear_y_pred))\n"
   ]
  },
  {
   "cell_type": "code",
   "execution_count": null,
   "metadata": {
    "id": "k8mG4F68ETRU"
   },
   "outputs": [],
   "source": []
  },
  {
   "cell_type": "code",
   "execution_count": null,
   "metadata": {},
   "outputs": [],
   "source": []
  },
  {
   "cell_type": "code",
   "execution_count": null,
   "metadata": {},
   "outputs": [],
   "source": []
  },
  {
   "cell_type": "code",
   "execution_count": null,
   "metadata": {},
   "outputs": [],
   "source": []
  }
 ],
 "metadata": {
  "colab": {
   "name": "cereal.ipynb",
   "provenance": []
  },
  "kernelspec": {
   "display_name": "Python 3 (ipykernel)",
   "language": "python",
   "name": "python3"
  },
  "language_info": {
   "codemirror_mode": {
    "name": "ipython",
    "version": 3
   },
   "file_extension": ".py",
   "mimetype": "text/x-python",
   "name": "python",
   "nbconvert_exporter": "python",
   "pygments_lexer": "ipython3",
   "version": "3.9.7"
  }
 },
 "nbformat": 4,
 "nbformat_minor": 1
}
