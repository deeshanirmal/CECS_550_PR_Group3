{
 "cells": [
  {
   "cell_type": "code",
   "execution_count": 1,
   "metadata": {},
   "outputs": [
    {
     "data": {
      "text/plain": [
       "array([2, 5, 3, 4, 6, 0, 1])"
      ]
     },
     "execution_count": 1,
     "metadata": {},
     "output_type": "execute_result"
    }
   ],
   "source": [
    "import pandas as pd\n",
    "import numpy as np\n",
    "from matplotlib import pyplot as plt\n",
    "from sklearn.linear_model import LinearRegression\n",
    "from sklearn.model_selection import train_test_split\n",
    "from sklearn.preprocessing import MinMaxScaler\n",
    "from sklearn import preprocessing\n",
    "from sklearn.metrics import r2_score\n",
    "import statsmodels.api as sm\n",
    "from sklearn.metrics import mean_squared_error\n",
    "from math import log\n",
    "\n",
    "df = pd.read_csv(\"cereal.csv\",sep=';')\n",
    "df.head()\n",
    "df = df.iloc[1: , :]\n",
    "label_encoder = preprocessing.LabelEncoder()\n",
    "\n",
    "df['name'] = label_encoder.fit_transform(df['name'])\n",
    "df['name'].unique()\n",
    "df['mfr'] = label_encoder.fit_transform(df['mfr'])\n",
    "df['mfr'].unique()\n",
    "df['type'] = label_encoder.fit_transform(df['type'])\n",
    "df['type'].unique()\n",
    "df['cups'] = label_encoder.fit_transform(df['cups'])\n",
    "df['cups'].unique()\n",
    "df['fiber'] = label_encoder.fit_transform(df['fiber'])\n",
    "df['fiber'].unique()\n",
    "df['carbo']= label_encoder.fit_transform(df['carbo'])\n",
    "df['carbo'].unique()\n",
    "df['weight']= label_encoder.fit_transform(df['weight'])\n",
    "df['weight'].unique()"
   ]
  },
  {
   "cell_type": "code",
   "execution_count": 2,
   "metadata": {},
   "outputs": [],
   "source": [
    "y1=df['rating']\n",
    "\n",
    "#Drop name and rating columns\n",
    "x1=df.drop(columns=['rating','name'])\n",
    "\n",
    "#spliting data\n",
    "X_train, X_test, y_train, y_test = train_test_split(x1, y1, test_size = 0.2, random_state = 0)"
   ]
  },
  {
   "cell_type": "code",
   "execution_count": 3,
   "metadata": {},
   "outputs": [
    {
     "name": "stdout",
     "output_type": "stream",
     "text": [
      "Predicted values using Linear Regression: \n",
      "[32.09788505 49.94831229 40.36398858 63.30457014 44.04394415 58.22120222\n",
      " 58.788498   56.43188237 31.27960412 38.84191079 38.49531109 57.81803049\n",
      " 76.56400195 28.21907645 52.3603753  36.25439182]\n"
     ]
    }
   ],
   "source": [
    "import sklearn.metrics as sm\n",
    "from sklearn.linear_model import LinearRegression\n",
    "reg = LinearRegression()\n",
    "reg.fit(X_train, y_train)\n",
    "\n",
    "y_pred1 = reg.predict(X_test)\n",
    "print(\"Predicted values using Linear Regression: \")\n",
    "print(y_pred1)"
   ]
  },
  {
   "cell_type": "code",
   "execution_count": 4,
   "metadata": {},
   "outputs": [],
   "source": [
    "y1=df['rating']\n",
    "\n",
    "#Drop sodium and sugar columns\n",
    "x2=x1.drop(columns=['sodium','sugars'])\n",
    "\n",
    "#spliting data\n",
    "X_train2, X_test2, y_train2, y_test2 = train_test_split(x2, y1, test_size = 0.2, random_state = 0)"
   ]
  },
  {
   "cell_type": "code",
   "execution_count": 5,
   "metadata": {},
   "outputs": [],
   "source": [
    "#calculating aic\n",
    "def calculating_aic(n, mse, n_params):\n",
    "    aic = n * log(mse) + 2 * n_params\n",
    "    return aic\n",
    "\n",
    "\n",
    "# calculating bic\n",
    "def calculating_bic(n, mse, n_params):\n",
    "    bic = n * log(mse) + n_params * log(n)\n",
    "    return bic"
   ]
  },
  {
   "cell_type": "code",
   "execution_count": 6,
   "metadata": {},
   "outputs": [
    {
     "name": "stdout",
     "output_type": "stream",
     "text": [
      "Predicted values using Linear Regression model2: \n",
      "[30.93272705 53.06465429 39.29916123 56.2370112  38.19840115 55.14135986\n",
      " 55.25107654 56.44100559 33.69369605 32.49695653 39.49020337 50.40049728\n",
      " 68.49555518 30.04211364 48.36487214 34.52245826]\n"
     ]
    }
   ],
   "source": [
    "#2nd Model\n",
    "reg2 = LinearRegression()\n",
    "reg2.fit(X_train2, y_train2)\n",
    "\n",
    "y_pred2 = reg2.predict(X_test2)\n",
    "print(\"Predicted values using Linear Regression model2: \")\n",
    "print(y_pred2)"
   ]
  },
  {
   "cell_type": "code",
   "execution_count": 7,
   "metadata": {},
   "outputs": [],
   "source": [
    "#calculating parameters for 1st model\n",
    "mean_sq_err = mean_squared_error(y_test, y_pred1)\n",
    "n=len(y_test)\n",
    "num_params = len(reg.coef_) + 1\n",
    "aic1 = calculating_aic(n, mean_sq_err, num_params)\n",
    "bic1 = calculating_bic(n, mean_sq_err, num_params)\n",
    "Adj_r21 = 1 - (1-r2_score(y_test, y_pred1)) * (len(y1)-1)/(len(y1)-x1.shape[1]-1)"
   ]
  },
  {
   "cell_type": "code",
   "execution_count": 8,
   "metadata": {},
   "outputs": [],
   "source": [
    "#Calculating parameters for 2nd model\n",
    "mean_sq_err = mean_squared_error(y_test2, y_pred2)\n",
    "n=len(y_test2)\n",
    "num_params = len(reg2.coef_) + 1\n",
    "aic2 = calculating_aic(n, mean_sq_err, num_params)\n",
    "bic2 = calculating_bic(n, mean_sq_err, num_params)\n",
    "Adj_r22 = 1 - (1-r2_score(y_test2, y_pred2)) * (len(y1)-1)/(len(y1)-x2.shape[1]-1)"
   ]
  },
  {
   "cell_type": "code",
   "execution_count": 18,
   "metadata": {},
   "outputs": [
    {
     "name": "stdout",
     "output_type": "stream",
     "text": [
      "AIC1: 79.25424049918655\n",
      "AIC2: 90.27219264452135\n",
      "BIC1: 90.84307133278327\n",
      "Adjusted R2 1: 0.891101287435763\n",
      "Adjusted R2 2: 0.7303050464958811\n",
      "Comapring values Model1 is better than Model2\n"
     ]
    }
   ],
   "source": [
    "print('AIC1:', aic1)\n",
    "print('AIC2:', aic2)\n",
    "print('BIC1:', bic1)\n",
    "print('Adjusted R2 1:', Adj_r21)\n",
    "print('Adjusted R2 2:', Adj_r22)\n",
    "print(\"Comapring values Model1 is better than Model2\")"
   ]
  },
  {
   "cell_type": "code",
   "execution_count": null,
   "metadata": {},
   "outputs": [],
   "source": []
  },
  {
   "cell_type": "code",
   "execution_count": null,
   "metadata": {},
   "outputs": [],
   "source": []
  },
  {
   "cell_type": "code",
   "execution_count": null,
   "metadata": {},
   "outputs": [],
   "source": []
  },
  {
   "cell_type": "code",
   "execution_count": null,
   "metadata": {},
   "outputs": [],
   "source": []
  },
  {
   "cell_type": "code",
   "execution_count": null,
   "metadata": {},
   "outputs": [],
   "source": []
  },
  {
   "cell_type": "code",
   "execution_count": null,
   "metadata": {},
   "outputs": [],
   "source": []
  }
 ],
 "metadata": {
  "kernelspec": {
   "display_name": "Python 3 (ipykernel)",
   "language": "python",
   "name": "python3"
  },
  "language_info": {
   "codemirror_mode": {
    "name": "ipython",
    "version": 3
   },
   "file_extension": ".py",
   "mimetype": "text/x-python",
   "name": "python",
   "nbconvert_exporter": "python",
   "pygments_lexer": "ipython3",
   "version": "3.9.7"
  }
 },
 "nbformat": 4,
 "nbformat_minor": 4
}
