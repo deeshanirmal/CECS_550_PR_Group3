{
  "nbformat": 4,
  "nbformat_minor": 0,
  "metadata": {
    "colab": {
      "name": "cereal.ipynb",
      "provenance": []
    },
    "kernelspec": {
      "name": "python3",
      "display_name": "Python 3"
    },
    "language_info": {
      "name": "python"
    }
  },
  "cells": [
    {
      "cell_type": "markdown",
      "source": [
        "## Question 1"
      ],
      "metadata": {
        "id": "iRwDXBiIGDF1"
      }
    },
    {
      "cell_type": "code",
      "execution_count": 59,
      "metadata": {
        "id": "U84M5dRyQ2ho"
      },
      "outputs": [],
      "source": [
        "import pandas as pd\n",
        "import numpy as np\n",
        "import warnings\n",
        "warnings.filterwarnings(\"ignore\")"
      ]
    },
    {
      "cell_type": "code",
      "source": [
        "data = pd.read_csv(\"cereal.csv\")\n",
        "data = data[1:]\n",
        "data.reset_index(drop=True, inplace=True)"
      ],
      "metadata": {
        "id": "tKDBMxKkRO2F"
      },
      "execution_count": 2,
      "outputs": []
    },
    {
      "cell_type": "code",
      "source": [
        "data.head()"
      ],
      "metadata": {
        "colab": {
          "base_uri": "https://localhost:8080/",
          "height": 421
        },
        "id": "o7J3EIV9cHAz",
        "outputId": "83d445dd-906a-4712-952d-833dbd0c43fe"
      },
      "execution_count": 3,
      "outputs": [
        {
          "output_type": "execute_result",
          "data": {
            "text/plain": [
              "                        name mfr type calories protein fat sodium fiber carbo  \\\n",
              "0                  100% Bran   N    C       70       4   1    130    10     5   \n",
              "1          100% Natural Bran   Q    C      120       3   5     15     2     8   \n",
              "2                   All-Bran   K    C       70       4   1    260     9     7   \n",
              "3  All-Bran with Extra Fiber   K    C       50       4   0    140    14     8   \n",
              "4             Almond Delight   R    C      110       2   2    200     1    14   \n",
              "\n",
              "  sugars potass vitamins shelf weight  cups     rating  \n",
              "0      6    280       25     3      1  0.33  68.402973  \n",
              "1      8    135        0     3      1     1  33.983679  \n",
              "2      5    320       25     3      1  0.33  59.425505  \n",
              "3      0    330       25     3      1   0.5  93.704912  \n",
              "4      8     -1       25     3      1  0.75  34.384843  "
            ],
            "text/html": [
              "\n",
              "  <div id=\"df-79262cca-1ba0-41eb-8c2e-38a41796645b\">\n",
              "    <div class=\"colab-df-container\">\n",
              "      <div>\n",
              "<style scoped>\n",
              "    .dataframe tbody tr th:only-of-type {\n",
              "        vertical-align: middle;\n",
              "    }\n",
              "\n",
              "    .dataframe tbody tr th {\n",
              "        vertical-align: top;\n",
              "    }\n",
              "\n",
              "    .dataframe thead th {\n",
              "        text-align: right;\n",
              "    }\n",
              "</style>\n",
              "<table border=\"1\" class=\"dataframe\">\n",
              "  <thead>\n",
              "    <tr style=\"text-align: right;\">\n",
              "      <th></th>\n",
              "      <th>name</th>\n",
              "      <th>mfr</th>\n",
              "      <th>type</th>\n",
              "      <th>calories</th>\n",
              "      <th>protein</th>\n",
              "      <th>fat</th>\n",
              "      <th>sodium</th>\n",
              "      <th>fiber</th>\n",
              "      <th>carbo</th>\n",
              "      <th>sugars</th>\n",
              "      <th>potass</th>\n",
              "      <th>vitamins</th>\n",
              "      <th>shelf</th>\n",
              "      <th>weight</th>\n",
              "      <th>cups</th>\n",
              "      <th>rating</th>\n",
              "    </tr>\n",
              "  </thead>\n",
              "  <tbody>\n",
              "    <tr>\n",
              "      <th>0</th>\n",
              "      <td>100% Bran</td>\n",
              "      <td>N</td>\n",
              "      <td>C</td>\n",
              "      <td>70</td>\n",
              "      <td>4</td>\n",
              "      <td>1</td>\n",
              "      <td>130</td>\n",
              "      <td>10</td>\n",
              "      <td>5</td>\n",
              "      <td>6</td>\n",
              "      <td>280</td>\n",
              "      <td>25</td>\n",
              "      <td>3</td>\n",
              "      <td>1</td>\n",
              "      <td>0.33</td>\n",
              "      <td>68.402973</td>\n",
              "    </tr>\n",
              "    <tr>\n",
              "      <th>1</th>\n",
              "      <td>100% Natural Bran</td>\n",
              "      <td>Q</td>\n",
              "      <td>C</td>\n",
              "      <td>120</td>\n",
              "      <td>3</td>\n",
              "      <td>5</td>\n",
              "      <td>15</td>\n",
              "      <td>2</td>\n",
              "      <td>8</td>\n",
              "      <td>8</td>\n",
              "      <td>135</td>\n",
              "      <td>0</td>\n",
              "      <td>3</td>\n",
              "      <td>1</td>\n",
              "      <td>1</td>\n",
              "      <td>33.983679</td>\n",
              "    </tr>\n",
              "    <tr>\n",
              "      <th>2</th>\n",
              "      <td>All-Bran</td>\n",
              "      <td>K</td>\n",
              "      <td>C</td>\n",
              "      <td>70</td>\n",
              "      <td>4</td>\n",
              "      <td>1</td>\n",
              "      <td>260</td>\n",
              "      <td>9</td>\n",
              "      <td>7</td>\n",
              "      <td>5</td>\n",
              "      <td>320</td>\n",
              "      <td>25</td>\n",
              "      <td>3</td>\n",
              "      <td>1</td>\n",
              "      <td>0.33</td>\n",
              "      <td>59.425505</td>\n",
              "    </tr>\n",
              "    <tr>\n",
              "      <th>3</th>\n",
              "      <td>All-Bran with Extra Fiber</td>\n",
              "      <td>K</td>\n",
              "      <td>C</td>\n",
              "      <td>50</td>\n",
              "      <td>4</td>\n",
              "      <td>0</td>\n",
              "      <td>140</td>\n",
              "      <td>14</td>\n",
              "      <td>8</td>\n",
              "      <td>0</td>\n",
              "      <td>330</td>\n",
              "      <td>25</td>\n",
              "      <td>3</td>\n",
              "      <td>1</td>\n",
              "      <td>0.5</td>\n",
              "      <td>93.704912</td>\n",
              "    </tr>\n",
              "    <tr>\n",
              "      <th>4</th>\n",
              "      <td>Almond Delight</td>\n",
              "      <td>R</td>\n",
              "      <td>C</td>\n",
              "      <td>110</td>\n",
              "      <td>2</td>\n",
              "      <td>2</td>\n",
              "      <td>200</td>\n",
              "      <td>1</td>\n",
              "      <td>14</td>\n",
              "      <td>8</td>\n",
              "      <td>-1</td>\n",
              "      <td>25</td>\n",
              "      <td>3</td>\n",
              "      <td>1</td>\n",
              "      <td>0.75</td>\n",
              "      <td>34.384843</td>\n",
              "    </tr>\n",
              "  </tbody>\n",
              "</table>\n",
              "</div>\n",
              "      <button class=\"colab-df-convert\" onclick=\"convertToInteractive('df-79262cca-1ba0-41eb-8c2e-38a41796645b')\"\n",
              "              title=\"Convert this dataframe to an interactive table.\"\n",
              "              style=\"display:none;\">\n",
              "        \n",
              "  <svg xmlns=\"http://www.w3.org/2000/svg\" height=\"24px\"viewBox=\"0 0 24 24\"\n",
              "       width=\"24px\">\n",
              "    <path d=\"M0 0h24v24H0V0z\" fill=\"none\"/>\n",
              "    <path d=\"M18.56 5.44l.94 2.06.94-2.06 2.06-.94-2.06-.94-.94-2.06-.94 2.06-2.06.94zm-11 1L8.5 8.5l.94-2.06 2.06-.94-2.06-.94L8.5 2.5l-.94 2.06-2.06.94zm10 10l.94 2.06.94-2.06 2.06-.94-2.06-.94-.94-2.06-.94 2.06-2.06.94z\"/><path d=\"M17.41 7.96l-1.37-1.37c-.4-.4-.92-.59-1.43-.59-.52 0-1.04.2-1.43.59L10.3 9.45l-7.72 7.72c-.78.78-.78 2.05 0 2.83L4 21.41c.39.39.9.59 1.41.59.51 0 1.02-.2 1.41-.59l7.78-7.78 2.81-2.81c.8-.78.8-2.07 0-2.86zM5.41 20L4 18.59l7.72-7.72 1.47 1.35L5.41 20z\"/>\n",
              "  </svg>\n",
              "      </button>\n",
              "      \n",
              "  <style>\n",
              "    .colab-df-container {\n",
              "      display:flex;\n",
              "      flex-wrap:wrap;\n",
              "      gap: 12px;\n",
              "    }\n",
              "\n",
              "    .colab-df-convert {\n",
              "      background-color: #E8F0FE;\n",
              "      border: none;\n",
              "      border-radius: 50%;\n",
              "      cursor: pointer;\n",
              "      display: none;\n",
              "      fill: #1967D2;\n",
              "      height: 32px;\n",
              "      padding: 0 0 0 0;\n",
              "      width: 32px;\n",
              "    }\n",
              "\n",
              "    .colab-df-convert:hover {\n",
              "      background-color: #E2EBFA;\n",
              "      box-shadow: 0px 1px 2px rgba(60, 64, 67, 0.3), 0px 1px 3px 1px rgba(60, 64, 67, 0.15);\n",
              "      fill: #174EA6;\n",
              "    }\n",
              "\n",
              "    [theme=dark] .colab-df-convert {\n",
              "      background-color: #3B4455;\n",
              "      fill: #D2E3FC;\n",
              "    }\n",
              "\n",
              "    [theme=dark] .colab-df-convert:hover {\n",
              "      background-color: #434B5C;\n",
              "      box-shadow: 0px 1px 3px 1px rgba(0, 0, 0, 0.15);\n",
              "      filter: drop-shadow(0px 1px 2px rgba(0, 0, 0, 0.3));\n",
              "      fill: #FFFFFF;\n",
              "    }\n",
              "  </style>\n",
              "\n",
              "      <script>\n",
              "        const buttonEl =\n",
              "          document.querySelector('#df-79262cca-1ba0-41eb-8c2e-38a41796645b button.colab-df-convert');\n",
              "        buttonEl.style.display =\n",
              "          google.colab.kernel.accessAllowed ? 'block' : 'none';\n",
              "\n",
              "        async function convertToInteractive(key) {\n",
              "          const element = document.querySelector('#df-79262cca-1ba0-41eb-8c2e-38a41796645b');\n",
              "          const dataTable =\n",
              "            await google.colab.kernel.invokeFunction('convertToInteractive',\n",
              "                                                     [key], {});\n",
              "          if (!dataTable) return;\n",
              "\n",
              "          const docLinkHtml = 'Like what you see? Visit the ' +\n",
              "            '<a target=\"_blank\" href=https://colab.research.google.com/notebooks/data_table.ipynb>data table notebook</a>'\n",
              "            + ' to learn more about interactive tables.';\n",
              "          element.innerHTML = '';\n",
              "          dataTable['output_type'] = 'display_data';\n",
              "          await google.colab.output.renderOutput(dataTable, element);\n",
              "          const docLink = document.createElement('div');\n",
              "          docLink.innerHTML = docLinkHtml;\n",
              "          element.appendChild(docLink);\n",
              "        }\n",
              "      </script>\n",
              "    </div>\n",
              "  </div>\n",
              "  "
            ]
          },
          "metadata": {},
          "execution_count": 3
        }
      ]
    },
    {
      "cell_type": "code",
      "source": [
        "mu = 0\n",
        "sigma = 5\n",
        "sodium = list(data['sodium'].values)\n",
        "sodium2 = [(2*int(sodium[i]))+int(np.random.normal(mu, sigma, 1)[0]) for i in range(data.shape[0])]\n",
        "data.insert(7, \"sodium2\", sodium2, True)"
      ],
      "metadata": {
        "id": "mf_FLBBvXwaW"
      },
      "execution_count": 4,
      "outputs": []
    },
    {
      "cell_type": "code",
      "source": [
        "data.drop([\"name\"], axis =1, inplace = True)"
      ],
      "metadata": {
        "id": "EmOhaoDnZrwW"
      },
      "execution_count": 5,
      "outputs": []
    },
    {
      "cell_type": "code",
      "source": [
        "from sklearn.preprocessing import OneHotEncoder"
      ],
      "metadata": {
        "id": "-VX61_n7al-_"
      },
      "execution_count": 6,
      "outputs": []
    },
    {
      "cell_type": "code",
      "source": [
        "mfr_enc = OneHotEncoder()\n",
        "mfr_df = pd.DataFrame(mfr_enc.fit_transform(data[['mfr']]).toarray())\n",
        "mfr_columns = list(mfr_df.columns)\n",
        "encoded_mfr_columns = []\n",
        "for i in mfr_columns:\n",
        "    encoded_mfr_columns.append(\"mfr_\"+str(i))\n",
        "mfr_df.set_axis(encoded_mfr_columns, axis=1, inplace=True)\n",
        "data.drop([\"mfr\"],axis = 1,inplace = True)\n",
        "data = data.join(mfr_df)"
      ],
      "metadata": {
        "id": "4GpBH0QxcBAC"
      },
      "execution_count": 7,
      "outputs": []
    },
    {
      "cell_type": "code",
      "source": [
        "type_enc = OneHotEncoder()\n",
        "type_df = pd.DataFrame(type_enc.fit_transform(data[['type']]).toarray())\n",
        "type_columns = list(type_df.columns)\n",
        "encoded_type_columns = []\n",
        "for i in type_columns:\n",
        "    encoded_type_columns.append(\"type_\"+str(i))\n",
        "type_df.set_axis(encoded_type_columns, axis=1, inplace=True)\n",
        "data.drop([\"type\"],axis = 1,inplace = True)\n",
        "data = data.join(type_df)"
      ],
      "metadata": {
        "id": "-03S3zdVazKn"
      },
      "execution_count": 8,
      "outputs": []
    },
    {
      "cell_type": "code",
      "source": [
        ""
      ],
      "metadata": {
        "id": "DLOO2TcRCkn2"
      },
      "execution_count": 32,
      "outputs": []
    },
    {
      "cell_type": "code",
      "source": [
        "data = data.astype(\"float\")"
      ],
      "metadata": {
        "id": "nWWEPh0UC46d"
      },
      "execution_count": 46,
      "outputs": []
    },
    {
      "cell_type": "code",
      "source": [
        "X = data.drop(['rating'],axis = 1)\n",
        "y = data[\"rating\"]"
      ],
      "metadata": {
        "id": "hiONetwMbWaQ"
      },
      "execution_count": 47,
      "outputs": []
    },
    {
      "cell_type": "code",
      "source": [
        "from sklearn.model_selection import train_test_split,RepeatedKFold,cross_val_score"
      ],
      "metadata": {
        "id": "QqAEYLRNbftp"
      },
      "execution_count": 48,
      "outputs": []
    },
    {
      "cell_type": "code",
      "source": [
        "X_train,X_test,y_train,y_test = train_test_split(X,y,random_state=42,test_size=0.1)"
      ],
      "metadata": {
        "id": "ennpDnWAcvGr"
      },
      "execution_count": 49,
      "outputs": []
    },
    {
      "cell_type": "markdown",
      "source": [
        "Linear Regression Models"
      ],
      "metadata": {
        "id": "PN7WofVnf6MH"
      }
    },
    {
      "cell_type": "code",
      "source": [
        "from sklearn.linear_model import LinearRegression,Ridge,Lasso,ElasticNet"
      ],
      "metadata": {
        "id": "MSc3FzPgdXuV"
      },
      "execution_count": 50,
      "outputs": []
    },
    {
      "cell_type": "markdown",
      "source": [
        "Ridge"
      ],
      "metadata": {
        "id": "zUwPDbbtg4YB"
      }
    },
    {
      "cell_type": "code",
      "source": [
        "model_ridge = Ridge()\n",
        "model_ridge.fit(X_train,y_train)"
      ],
      "metadata": {
        "colab": {
          "base_uri": "https://localhost:8080/"
        },
        "id": "qhJrfu6wdxRa",
        "outputId": "1fe17d7e-d392-4c64-84b8-0d27be76a03b"
      },
      "execution_count": 51,
      "outputs": [
        {
          "output_type": "execute_result",
          "data": {
            "text/plain": [
              "Ridge()"
            ]
          },
          "metadata": {},
          "execution_count": 51
        }
      ]
    },
    {
      "cell_type": "code",
      "source": [
        "import matplotlib.pyplot as plt"
      ],
      "metadata": {
        "id": "wOgQt3UXpoiZ"
      },
      "execution_count": 52,
      "outputs": []
    },
    {
      "cell_type": "markdown",
      "source": [
        "Lasso"
      ],
      "metadata": {
        "id": "3GHljJQCg50P"
      }
    },
    {
      "cell_type": "code",
      "source": [
        "model_lasso = Lasso()\n",
        "model_lasso.fit(X_train,y_train)"
      ],
      "metadata": {
        "colab": {
          "base_uri": "https://localhost:8080/"
        },
        "id": "oU6daQGBg3wc",
        "outputId": "ba2cf2fa-ff30-4829-b13f-b923a39c514d"
      },
      "execution_count": 53,
      "outputs": [
        {
          "output_type": "execute_result",
          "data": {
            "text/plain": [
              "Lasso()"
            ]
          },
          "metadata": {},
          "execution_count": 53
        }
      ]
    },
    {
      "cell_type": "markdown",
      "source": [
        "ElasticNet"
      ],
      "metadata": {
        "id": "-5UZwU8vhBgX"
      }
    },
    {
      "cell_type": "code",
      "source": [
        "model_elasticnet = ElasticNet()\n",
        "model_elasticnet.fit(X_train,y_train)"
      ],
      "metadata": {
        "colab": {
          "base_uri": "https://localhost:8080/"
        },
        "id": "wVIRQFtnhBJ6",
        "outputId": "b9e6a5ab-41f6-425b-a290-70377e660ec4"
      },
      "execution_count": 54,
      "outputs": [
        {
          "output_type": "stream",
          "name": "stderr",
          "text": [
            "/usr/local/lib/python3.7/dist-packages/sklearn/linear_model/_coordinate_descent.py:648: ConvergenceWarning: Objective did not converge. You might want to increase the number of iterations, check the scale of the features or consider increasing regularisation. Duality gap: 4.297e+01, tolerance: 1.298e+00\n",
            "  coef_, l1_reg, l2_reg, X, y, max_iter, tol, rng, random, positive\n"
          ]
        },
        {
          "output_type": "execute_result",
          "data": {
            "text/plain": [
              "ElasticNet()"
            ]
          },
          "metadata": {},
          "execution_count": 54
        }
      ]
    },
    {
      "cell_type": "markdown",
      "source": [
        "Linear regression"
      ],
      "metadata": {
        "id": "JQ09zxlthTxo"
      }
    },
    {
      "cell_type": "code",
      "source": [
        "model_linear = LinearRegression()\n",
        "model_linear.fit(X_train,y_train)"
      ],
      "metadata": {
        "colab": {
          "base_uri": "https://localhost:8080/"
        },
        "id": "eEqVM3mXhKwH",
        "outputId": "b2460d68-9ef6-44ce-c605-c91cc350b4ce"
      },
      "execution_count": 69,
      "outputs": [
        {
          "output_type": "execute_result",
          "data": {
            "text/plain": [
              "LinearRegression()"
            ]
          },
          "metadata": {},
          "execution_count": 69
        }
      ]
    },
    {
      "cell_type": "markdown",
      "source": [
        "## Question 2"
      ],
      "metadata": {
        "id": "v5g2tsS6GABM"
      }
    },
    {
      "cell_type": "code",
      "source": [
        ""
      ],
      "metadata": {
        "id": "XqIRfNKd_TQc"
      },
      "execution_count": null,
      "outputs": []
    },
    {
      "cell_type": "code",
      "source": [
        ""
      ],
      "metadata": {
        "id": "6HRXPBfI_TOE"
      },
      "execution_count": null,
      "outputs": []
    },
    {
      "cell_type": "code",
      "source": [
        ""
      ],
      "metadata": {
        "id": "i6cUbLrL_TLe"
      },
      "execution_count": null,
      "outputs": []
    },
    {
      "cell_type": "markdown",
      "source": [
        "##Question 3"
      ],
      "metadata": {
        "id": "pJzws922_UgO"
      }
    },
    {
      "cell_type": "code",
      "source": [
        "# pip install mlxtend --upgrade"
      ],
      "metadata": {
        "id": "02JnfbhE_6uP"
      },
      "execution_count": 19,
      "outputs": []
    },
    {
      "cell_type": "code",
      "source": [
        "from mlxtend.evaluate import bias_variance_decomp\n",
        "from sklearn.metrics import mean_squared_error"
      ],
      "metadata": {
        "id": "Ibp0uR-a_TI2"
      },
      "execution_count": 57,
      "outputs": []
    },
    {
      "cell_type": "code",
      "source": [
        ""
      ],
      "metadata": {
        "id": "9I5LBkvdAmQ7"
      },
      "execution_count": null,
      "outputs": []
    },
    {
      "cell_type": "markdown",
      "source": [
        "Ridge Bias-Variance"
      ],
      "metadata": {
        "id": "okX_WlWrAmz3"
      }
    },
    {
      "cell_type": "code",
      "source": [
        "ridge_mse, ridge_bias, ridge_var = bias_variance_decomp(model_ridge, X_train.values, y_train.values, X_test.values, y_test.values, loss='mse', random_seed=123)\n",
        "ridge_y_pred=model_ridge.predict(X_test)\n",
        "# summarize results\n",
        "print('MSE from bias_variance lib [avg expected loss]: %.3f' % ridge_mse)\n",
        "print('Avg Bias: %.3f' % ridge_bias)\n",
        "print('Avg Variance: %.3f' % ridge_var)\n",
        "print('Mean Square error by Sckit-learn lib: %.3f' % mean_squared_error(y_test,ridge_y_pred))\n"
      ],
      "metadata": {
        "colab": {
          "base_uri": "https://localhost:8080/"
        },
        "id": "KNojpvV1_TGe",
        "outputId": "391697f6-ea26-4c55-d7fc-152350eab7cd"
      },
      "execution_count": 60,
      "outputs": [
        {
          "output_type": "stream",
          "name": "stdout",
          "text": [
            "MSE from bias_variance lib [avg expected loss]: 0.043\n",
            "Avg Bias: 0.025\n",
            "Avg Variance: 0.018\n",
            "Mean Square error by Sckit-learn lib: 0.040\n"
          ]
        }
      ]
    },
    {
      "cell_type": "markdown",
      "source": [
        "Lasso Bias-Variance"
      ],
      "metadata": {
        "id": "ADl0futgDgwg"
      }
    },
    {
      "cell_type": "code",
      "source": [
        "lasso_mse, lasso_bias, lasso_var = bias_variance_decomp(model_lasso, X_train.values, y_train.values, X_test.values, y_test.values, loss='mse', random_seed=123)\n",
        "lasso_y_pred=model_lasso.predict(X_test)\n",
        "# summarize results\n",
        "print('MSE from bias_variance lib [avg expected loss]: %.3f' % lasso_mse)\n",
        "print('Avg Bias: %.3f' % lasso_bias)\n",
        "print('Avg Variance: %.3f' % lasso_var)\n",
        "print('Mean Square error by Sckit-learn lib: %.3f' % mean_squared_error(y_test,lasso_y_pred))\n"
      ],
      "metadata": {
        "colab": {
          "base_uri": "https://localhost:8080/"
        },
        "id": "mZMANFhI_TD0",
        "outputId": "1e3addf4-4c16-47e8-d7ce-6852ca4fcd50"
      },
      "execution_count": 61,
      "outputs": [
        {
          "output_type": "stream",
          "name": "stdout",
          "text": [
            "MSE from bias_variance lib [avg expected loss]: 5.773\n",
            "Avg Bias: 4.111\n",
            "Avg Variance: 1.662\n",
            "Mean Square error by Sckit-learn lib: 3.782\n"
          ]
        }
      ]
    },
    {
      "cell_type": "markdown",
      "source": [
        "ElasticNet Bias-Variance"
      ],
      "metadata": {
        "id": "-ho5m8-GDyOk"
      }
    },
    {
      "cell_type": "code",
      "source": [
        "elasticnet_mse, elasticnet_bias, elasticnet_var = bias_variance_decomp(model_elasticnet, X_train.values, y_train.values, X_test.values, y_test.values, loss='mse', random_seed=123)\n",
        "elasticnet_y_pred=model_elasticnet.predict(X_test)\n",
        "# summarize results\n",
        "print('MSE from bias_variance lib [avg expected loss]: %.3f' % elasticnet_mse)\n",
        "print('Avg Bias: %.3f' % elasticnet_bias)\n",
        "print('Avg Variance: %.3f' % elasticnet_var)\n",
        "print('Mean Square error by Sckit-learn lib: %.3f' % mean_squared_error(y_test,elasticnet_y_pred))\n"
      ],
      "metadata": {
        "colab": {
          "base_uri": "https://localhost:8080/"
        },
        "id": "1nVADz2SDui-",
        "outputId": "4d7e7b8d-565b-4970-b733-a444d616e486"
      },
      "execution_count": 62,
      "outputs": [
        {
          "output_type": "stream",
          "name": "stdout",
          "text": [
            "MSE from bias_variance lib [avg expected loss]: 6.884\n",
            "Avg Bias: 5.449\n",
            "Avg Variance: 1.435\n",
            "Mean Square error by Sckit-learn lib: 4.848\n"
          ]
        }
      ]
    },
    {
      "cell_type": "markdown",
      "source": [
        "LinearRegression Bias-Variance"
      ],
      "metadata": {
        "id": "GYoo3vUkEEOe"
      }
    },
    {
      "cell_type": "code",
      "source": [
        "linear_mse, linear_bias, linear_var = bias_variance_decomp(model_linear, X_train.values, y_train.values, X_test.values, y_test.values, loss='mse', random_seed=123)\n",
        "linear_y_pred=model_linear.predict(X_test)\n",
        "# summarize results\n",
        "print('MSE from bias_variance lib [avg expected loss]: %.3f' % linear_mse)\n",
        "print('Avg Bias: %.3f' % linear_bias)\n",
        "print('Avg Variance: %.3f' % linear_var)\n",
        "print('Mean Square error by Sckit-learn lib: %.3f' % mean_squared_error(y_test,linear_y_pred))\n"
      ],
      "metadata": {
        "colab": {
          "base_uri": "https://localhost:8080/"
        },
        "id": "_NmRcAUuEAh6",
        "outputId": "98268401-f10c-4e17-c775-c4d21e2896fa"
      },
      "execution_count": 74,
      "outputs": [
        {
          "output_type": "stream",
          "name": "stdout",
          "text": [
            "MSE from bias_variance lib [avg expected loss]: 0.000\n",
            "Avg Bias: 0.000\n",
            "Avg Variance: 0.000\n",
            "Mean Square error by Sckit-learn lib: 0.000\n"
          ]
        }
      ]
    },
    {
      "cell_type": "code",
      "source": [
        ""
      ],
      "metadata": {
        "id": "k8mG4F68ETRU"
      },
      "execution_count": null,
      "outputs": []
    }
  ]
}